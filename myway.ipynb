{
 "cells": [
  {
   "cell_type": "code",
   "execution_count": 92,
   "metadata": {},
   "outputs": [
    {
     "name": "stdout",
     "output_type": "stream",
     "text": [
      "Requirement already satisfied: llama-index in c:\\users\\swapna\\anaconda3\\envs\\ai\\lib\\site-packages (0.12.14)\n",
      "Requirement already satisfied: BeautifulSoup4 in c:\\users\\swapna\\anaconda3\\envs\\ai\\lib\\site-packages (4.12.3)\n",
      "Requirement already satisfied: google-generativeai in c:\\users\\swapna\\anaconda3\\envs\\ai\\lib\\site-packages (0.8.4)\n",
      "Requirement already satisfied: pinecone-client in c:\\users\\swapna\\anaconda3\\envs\\ai\\lib\\site-packages (5.0.1)\n",
      "Requirement already satisfied: llama-index-readers-web in c:\\users\\swapna\\anaconda3\\envs\\ai\\lib\\site-packages (0.3.5)\n",
      "Requirement already satisfied: llama-index-embeddings-gemini in c:\\users\\swapna\\anaconda3\\envs\\ai\\lib\\site-packages (0.3.1)\n",
      "Requirement already satisfied: llama-index-vector-stores-pinecone in c:\\users\\swapna\\anaconda3\\envs\\ai\\lib\\site-packages (0.4.4)\n",
      "Requirement already satisfied: llama-index-llms-gemini in c:\\users\\swapna\\anaconda3\\envs\\ai\\lib\\site-packages (0.4.4)\n",
      "Requirement already satisfied: llama-index-agent-openai<0.5.0,>=0.4.0 in c:\\users\\swapna\\anaconda3\\envs\\ai\\lib\\site-packages (from llama-index) (0.4.3)\n",
      "Requirement already satisfied: llama-index-cli<0.5.0,>=0.4.0 in c:\\users\\swapna\\anaconda3\\envs\\ai\\lib\\site-packages (from llama-index) (0.4.0)\n",
      "Requirement already satisfied: llama-index-core<0.13.0,>=0.12.14 in c:\\users\\swapna\\anaconda3\\envs\\ai\\lib\\site-packages (from llama-index) (0.12.14)\n",
      "Requirement already satisfied: llama-index-embeddings-openai<0.4.0,>=0.3.0 in c:\\users\\swapna\\anaconda3\\envs\\ai\\lib\\site-packages (from llama-index) (0.3.1)\n",
      "Requirement already satisfied: llama-index-indices-managed-llama-cloud>=0.4.0 in c:\\users\\swapna\\anaconda3\\envs\\ai\\lib\\site-packages (from llama-index) (0.6.4)\n",
      "Requirement already satisfied: llama-index-llms-openai<0.4.0,>=0.3.0 in c:\\users\\swapna\\anaconda3\\envs\\ai\\lib\\site-packages (from llama-index) (0.3.14)\n",
      "Requirement already satisfied: llama-index-multi-modal-llms-openai<0.5.0,>=0.4.0 in c:\\users\\swapna\\anaconda3\\envs\\ai\\lib\\site-packages (from llama-index) (0.4.2)\n",
      "Requirement already satisfied: llama-index-program-openai<0.4.0,>=0.3.0 in c:\\users\\swapna\\anaconda3\\envs\\ai\\lib\\site-packages (from llama-index) (0.3.1)\n",
      "Requirement already satisfied: llama-index-question-gen-openai<0.4.0,>=0.3.0 in c:\\users\\swapna\\anaconda3\\envs\\ai\\lib\\site-packages (from llama-index) (0.3.0)\n",
      "Requirement already satisfied: llama-index-readers-file<0.5.0,>=0.4.0 in c:\\users\\swapna\\anaconda3\\envs\\ai\\lib\\site-packages (from llama-index) (0.4.4)\n",
      "Requirement already satisfied: llama-index-readers-llama-parse>=0.4.0 in c:\\users\\swapna\\anaconda3\\envs\\ai\\lib\\site-packages (from llama-index) (0.4.0)\n",
      "Requirement already satisfied: nltk>3.8.1 in c:\\users\\swapna\\anaconda3\\envs\\ai\\lib\\site-packages (from llama-index) (3.9.1)\n",
      "Requirement already satisfied: soupsieve>1.2 in c:\\users\\swapna\\anaconda3\\envs\\ai\\lib\\site-packages (from BeautifulSoup4) (2.6)\n",
      "Requirement already satisfied: google-ai-generativelanguage==0.6.15 in c:\\users\\swapna\\anaconda3\\envs\\ai\\lib\\site-packages (from google-generativeai) (0.6.15)\n",
      "Requirement already satisfied: google-api-core in c:\\users\\swapna\\anaconda3\\envs\\ai\\lib\\site-packages (from google-generativeai) (2.24.1)\n",
      "Requirement already satisfied: google-api-python-client in c:\\users\\swapna\\anaconda3\\envs\\ai\\lib\\site-packages (from google-generativeai) (2.160.0)\n",
      "Requirement already satisfied: google-auth>=2.15.0 in c:\\users\\swapna\\anaconda3\\envs\\ai\\lib\\site-packages (from google-generativeai) (2.38.0)\n",
      "Requirement already satisfied: protobuf in c:\\users\\swapna\\anaconda3\\envs\\ai\\lib\\site-packages (from google-generativeai) (5.29.3)\n",
      "Requirement already satisfied: pydantic in c:\\users\\swapna\\anaconda3\\envs\\ai\\lib\\site-packages (from google-generativeai) (2.10.5)\n",
      "Requirement already satisfied: tqdm in c:\\users\\swapna\\anaconda3\\envs\\ai\\lib\\site-packages (from google-generativeai) (4.67.1)\n",
      "Requirement already satisfied: typing-extensions in c:\\users\\swapna\\anaconda3\\envs\\ai\\lib\\site-packages (from google-generativeai) (4.12.2)\n",
      "Requirement already satisfied: proto-plus<2.0.0dev,>=1.22.3 in c:\\users\\swapna\\anaconda3\\envs\\ai\\lib\\site-packages (from google-ai-generativelanguage==0.6.15->google-generativeai) (1.26.0)\n",
      "Requirement already satisfied: certifi>=2019.11.17 in c:\\users\\swapna\\anaconda3\\envs\\ai\\lib\\site-packages (from pinecone-client) (2024.12.14)\n",
      "Requirement already satisfied: pinecone-plugin-inference<2.0.0,>=1.0.3 in c:\\users\\swapna\\anaconda3\\envs\\ai\\lib\\site-packages (from pinecone-client) (1.1.0)\n",
      "Requirement already satisfied: pinecone-plugin-interface<0.0.8,>=0.0.7 in c:\\users\\swapna\\anaconda3\\envs\\ai\\lib\\site-packages (from pinecone-client) (0.0.7)\n",
      "Requirement already satisfied: urllib3>=1.26.5 in c:\\users\\swapna\\anaconda3\\envs\\ai\\lib\\site-packages (from pinecone-client) (2.3.0)\n",
      "Requirement already satisfied: aiohttp<4.0.0,>=3.9.1 in c:\\users\\swapna\\anaconda3\\envs\\ai\\lib\\site-packages (from llama-index-readers-web) (3.11.11)\n",
      "Requirement already satisfied: chromedriver-autoinstaller<0.7.0,>=0.6.3 in c:\\users\\swapna\\anaconda3\\envs\\ai\\lib\\site-packages (from llama-index-readers-web) (0.6.4)\n",
      "Requirement already satisfied: html2text<2025.0.0,>=2024.2.26 in c:\\users\\swapna\\anaconda3\\envs\\ai\\lib\\site-packages (from llama-index-readers-web) (2024.2.26)\n",
      "Requirement already satisfied: newspaper3k<0.3.0,>=0.2.8 in c:\\users\\swapna\\anaconda3\\envs\\ai\\lib\\site-packages (from llama-index-readers-web) (0.2.8)\n",
      "Requirement already satisfied: playwright<2.0,>=1.30 in c:\\users\\swapna\\anaconda3\\envs\\ai\\lib\\site-packages (from llama-index-readers-web) (1.49.1)\n",
      "Requirement already satisfied: requests<3.0.0,>=2.31.0 in c:\\users\\swapna\\anaconda3\\envs\\ai\\lib\\site-packages (from llama-index-readers-web) (2.32.3)\n",
      "Requirement already satisfied: selenium<5.0.0,>=4.17.2 in c:\\users\\swapna\\anaconda3\\envs\\ai\\lib\\site-packages (from llama-index-readers-web) (4.28.1)\n",
      "Requirement already satisfied: spider-client<0.0.28,>=0.0.27 in c:\\users\\swapna\\anaconda3\\envs\\ai\\lib\\site-packages (from llama-index-readers-web) (0.0.27)\n",
      "Requirement already satisfied: pinecone<6.0.0,>=3.2.2 in c:\\users\\swapna\\anaconda3\\envs\\ai\\lib\\site-packages (from llama-index-vector-stores-pinecone) (5.3.1)\n",
      "Requirement already satisfied: pillow<11.0.0,>=10.2.0 in c:\\users\\swapna\\anaconda3\\envs\\ai\\lib\\site-packages (from llama-index-llms-gemini) (10.4.0)\n",
      "Requirement already satisfied: aiohappyeyeballs>=2.3.0 in c:\\users\\swapna\\anaconda3\\envs\\ai\\lib\\site-packages (from aiohttp<4.0.0,>=3.9.1->llama-index-readers-web) (2.4.4)\n",
      "Requirement already satisfied: aiosignal>=1.1.2 in c:\\users\\swapna\\anaconda3\\envs\\ai\\lib\\site-packages (from aiohttp<4.0.0,>=3.9.1->llama-index-readers-web) (1.3.2)\n",
      "Requirement already satisfied: attrs>=17.3.0 in c:\\users\\swapna\\anaconda3\\envs\\ai\\lib\\site-packages (from aiohttp<4.0.0,>=3.9.1->llama-index-readers-web) (24.3.0)\n",
      "Requirement already satisfied: frozenlist>=1.1.1 in c:\\users\\swapna\\anaconda3\\envs\\ai\\lib\\site-packages (from aiohttp<4.0.0,>=3.9.1->llama-index-readers-web) (1.5.0)\n",
      "Requirement already satisfied: multidict<7.0,>=4.5 in c:\\users\\swapna\\anaconda3\\envs\\ai\\lib\\site-packages (from aiohttp<4.0.0,>=3.9.1->llama-index-readers-web) (6.1.0)\n",
      "Requirement already satisfied: propcache>=0.2.0 in c:\\users\\swapna\\anaconda3\\envs\\ai\\lib\\site-packages (from aiohttp<4.0.0,>=3.9.1->llama-index-readers-web) (0.2.1)\n",
      "Requirement already satisfied: yarl<2.0,>=1.17.0 in c:\\users\\swapna\\anaconda3\\envs\\ai\\lib\\site-packages (from aiohttp<4.0.0,>=3.9.1->llama-index-readers-web) (1.18.3)\n",
      "Requirement already satisfied: packaging>=23.1 in c:\\users\\swapna\\anaconda3\\envs\\ai\\lib\\site-packages (from chromedriver-autoinstaller<0.7.0,>=0.6.3->llama-index-readers-web) (23.2)\n",
      "Requirement already satisfied: googleapis-common-protos<2.0.dev0,>=1.56.2 in c:\\users\\swapna\\anaconda3\\envs\\ai\\lib\\site-packages (from google-api-core->google-generativeai) (1.66.0)\n",
      "Requirement already satisfied: cachetools<6.0,>=2.0.0 in c:\\users\\swapna\\anaconda3\\envs\\ai\\lib\\site-packages (from google-auth>=2.15.0->google-generativeai) (5.5.0)\n",
      "Requirement already satisfied: pyasn1-modules>=0.2.1 in c:\\users\\swapna\\anaconda3\\envs\\ai\\lib\\site-packages (from google-auth>=2.15.0->google-generativeai) (0.4.1)\n",
      "Requirement already satisfied: rsa<5,>=3.1.4 in c:\\users\\swapna\\anaconda3\\envs\\ai\\lib\\site-packages (from google-auth>=2.15.0->google-generativeai) (4.9)\n",
      "Requirement already satisfied: openai>=1.14.0 in c:\\users\\swapna\\anaconda3\\envs\\ai\\lib\\site-packages (from llama-index-agent-openai<0.5.0,>=0.4.0->llama-index) (1.60.2)\n",
      "Requirement already satisfied: PyYAML>=6.0.1 in c:\\users\\swapna\\anaconda3\\envs\\ai\\lib\\site-packages (from llama-index-core<0.13.0,>=0.12.14->llama-index) (6.0.2)\n",
      "Requirement already satisfied: SQLAlchemy>=1.4.49 in c:\\users\\swapna\\anaconda3\\envs\\ai\\lib\\site-packages (from SQLAlchemy[asyncio]>=1.4.49->llama-index-core<0.13.0,>=0.12.14->llama-index) (2.0.37)\n",
      "Requirement already satisfied: dataclasses-json in c:\\users\\swapna\\anaconda3\\envs\\ai\\lib\\site-packages (from llama-index-core<0.13.0,>=0.12.14->llama-index) (0.6.7)\n",
      "Requirement already satisfied: deprecated>=1.2.9.3 in c:\\users\\swapna\\anaconda3\\envs\\ai\\lib\\site-packages (from llama-index-core<0.13.0,>=0.12.14->llama-index) (1.2.18)\n",
      "Requirement already satisfied: dirtyjson<2.0.0,>=1.0.8 in c:\\users\\swapna\\anaconda3\\envs\\ai\\lib\\site-packages (from llama-index-core<0.13.0,>=0.12.14->llama-index) (1.0.8)\n",
      "Requirement already satisfied: filetype<2.0.0,>=1.2.0 in c:\\users\\swapna\\anaconda3\\envs\\ai\\lib\\site-packages (from llama-index-core<0.13.0,>=0.12.14->llama-index) (1.2.0)\n",
      "Requirement already satisfied: fsspec>=2023.5.0 in c:\\users\\swapna\\anaconda3\\envs\\ai\\lib\\site-packages (from llama-index-core<0.13.0,>=0.12.14->llama-index) (2024.12.0)\n",
      "Requirement already satisfied: httpx in c:\\users\\swapna\\anaconda3\\envs\\ai\\lib\\site-packages (from llama-index-core<0.13.0,>=0.12.14->llama-index) (0.28.1)\n",
      "Requirement already satisfied: nest-asyncio<2.0.0,>=1.5.8 in c:\\users\\swapna\\appdata\\roaming\\python\\python312\\site-packages (from llama-index-core<0.13.0,>=0.12.14->llama-index) (1.6.0)\n",
      "Requirement already satisfied: networkx>=3.0 in c:\\users\\swapna\\anaconda3\\envs\\ai\\lib\\site-packages (from llama-index-core<0.13.0,>=0.12.14->llama-index) (3.4.2)\n",
      "Requirement already satisfied: numpy in c:\\users\\swapna\\anaconda3\\envs\\ai\\lib\\site-packages (from llama-index-core<0.13.0,>=0.12.14->llama-index) (1.26.4)\n",
      "Requirement already satisfied: tenacity!=8.4.0,<10.0.0,>=8.2.0 in c:\\users\\swapna\\anaconda3\\envs\\ai\\lib\\site-packages (from llama-index-core<0.13.0,>=0.12.14->llama-index) (8.5.0)\n",
      "Requirement already satisfied: tiktoken>=0.3.3 in c:\\users\\swapna\\anaconda3\\envs\\ai\\lib\\site-packages (from llama-index-core<0.13.0,>=0.12.14->llama-index) (0.8.0)\n",
      "Requirement already satisfied: typing-inspect>=0.8.0 in c:\\users\\swapna\\anaconda3\\envs\\ai\\lib\\site-packages (from llama-index-core<0.13.0,>=0.12.14->llama-index) (0.9.0)\n",
      "Requirement already satisfied: wrapt in c:\\users\\swapna\\anaconda3\\envs\\ai\\lib\\site-packages (from llama-index-core<0.13.0,>=0.12.14->llama-index) (1.17.2)\n",
      "Requirement already satisfied: llama-cloud<0.2.0,>=0.1.8 in c:\\users\\swapna\\anaconda3\\envs\\ai\\lib\\site-packages (from llama-index-indices-managed-llama-cloud>=0.4.0->llama-index) (0.1.11)\n",
      "Requirement already satisfied: pandas in c:\\users\\swapna\\anaconda3\\envs\\ai\\lib\\site-packages (from llama-index-readers-file<0.5.0,>=0.4.0->llama-index) (2.2.3)\n",
      "Requirement already satisfied: pypdf<6.0.0,>=5.1.0 in c:\\users\\swapna\\anaconda3\\envs\\ai\\lib\\site-packages (from llama-index-readers-file<0.5.0,>=0.4.0->llama-index) (5.1.0)\n",
      "Requirement already satisfied: striprtf<0.0.27,>=0.0.26 in c:\\users\\swapna\\anaconda3\\envs\\ai\\lib\\site-packages (from llama-index-readers-file<0.5.0,>=0.4.0->llama-index) (0.0.26)\n",
      "Requirement already satisfied: llama-parse>=0.5.0 in c:\\users\\swapna\\anaconda3\\envs\\ai\\lib\\site-packages (from llama-index-readers-llama-parse>=0.4.0->llama-index) (0.5.20)\n",
      "Requirement already satisfied: cssselect>=0.9.2 in c:\\users\\swapna\\anaconda3\\envs\\ai\\lib\\site-packages (from newspaper3k<0.3.0,>=0.2.8->llama-index-readers-web) (1.2.0)\n",
      "Requirement already satisfied: lxml>=3.6.0 in c:\\users\\swapna\\anaconda3\\envs\\ai\\lib\\site-packages (from newspaper3k<0.3.0,>=0.2.8->llama-index-readers-web) (5.3.0)\n",
      "Requirement already satisfied: feedparser>=5.2.1 in c:\\users\\swapna\\anaconda3\\envs\\ai\\lib\\site-packages (from newspaper3k<0.3.0,>=0.2.8->llama-index-readers-web) (6.0.11)\n",
      "Requirement already satisfied: tldextract>=2.0.1 in c:\\users\\swapna\\anaconda3\\envs\\ai\\lib\\site-packages (from newspaper3k<0.3.0,>=0.2.8->llama-index-readers-web) (5.1.3)\n",
      "Requirement already satisfied: feedfinder2>=0.0.4 in c:\\users\\swapna\\anaconda3\\envs\\ai\\lib\\site-packages (from newspaper3k<0.3.0,>=0.2.8->llama-index-readers-web) (0.0.4)\n",
      "Requirement already satisfied: jieba3k>=0.35.1 in c:\\users\\swapna\\anaconda3\\envs\\ai\\lib\\site-packages (from newspaper3k<0.3.0,>=0.2.8->llama-index-readers-web) (0.35.1)\n",
      "Requirement already satisfied: python-dateutil>=2.5.3 in c:\\users\\swapna\\anaconda3\\envs\\ai\\lib\\site-packages (from newspaper3k<0.3.0,>=0.2.8->llama-index-readers-web) (2.9.0.post0)\n",
      "Requirement already satisfied: tinysegmenter==0.3 in c:\\users\\swapna\\anaconda3\\envs\\ai\\lib\\site-packages (from newspaper3k<0.3.0,>=0.2.8->llama-index-readers-web) (0.3)\n",
      "Requirement already satisfied: click in c:\\users\\swapna\\anaconda3\\envs\\ai\\lib\\site-packages (from nltk>3.8.1->llama-index) (8.1.8)\n",
      "Requirement already satisfied: joblib in c:\\users\\swapna\\anaconda3\\envs\\ai\\lib\\site-packages (from nltk>3.8.1->llama-index) (1.4.2)\n",
      "Requirement already satisfied: regex>=2021.8.3 in c:\\users\\swapna\\anaconda3\\envs\\ai\\lib\\site-packages (from nltk>3.8.1->llama-index) (2024.11.6)\n",
      "Requirement already satisfied: greenlet==3.1.1 in c:\\users\\swapna\\anaconda3\\envs\\ai\\lib\\site-packages (from playwright<2.0,>=1.30->llama-index-readers-web) (3.1.1)\n",
      "Requirement already satisfied: pyee==12.0.0 in c:\\users\\swapna\\anaconda3\\envs\\ai\\lib\\site-packages (from playwright<2.0,>=1.30->llama-index-readers-web) (12.0.0)\n",
      "Requirement already satisfied: annotated-types>=0.6.0 in c:\\users\\swapna\\anaconda3\\envs\\ai\\lib\\site-packages (from pydantic->google-generativeai) (0.7.0)\n",
      "Requirement already satisfied: pydantic-core==2.27.2 in c:\\users\\swapna\\anaconda3\\envs\\ai\\lib\\site-packages (from pydantic->google-generativeai) (2.27.2)\n",
      "Requirement already satisfied: charset-normalizer<4,>=2 in c:\\users\\swapna\\anaconda3\\envs\\ai\\lib\\site-packages (from requests<3.0.0,>=2.31.0->llama-index-readers-web) (3.4.1)\n",
      "Requirement already satisfied: idna<4,>=2.5 in c:\\users\\swapna\\anaconda3\\envs\\ai\\lib\\site-packages (from requests<3.0.0,>=2.31.0->llama-index-readers-web) (3.10)\n",
      "Requirement already satisfied: trio~=0.17 in c:\\users\\swapna\\anaconda3\\envs\\ai\\lib\\site-packages (from selenium<5.0.0,>=4.17.2->llama-index-readers-web) (0.28.0)\n",
      "Requirement already satisfied: trio-websocket~=0.9 in c:\\users\\swapna\\anaconda3\\envs\\ai\\lib\\site-packages (from selenium<5.0.0,>=4.17.2->llama-index-readers-web) (0.11.1)\n",
      "Requirement already satisfied: websocket-client~=1.8 in c:\\users\\swapna\\anaconda3\\envs\\ai\\lib\\site-packages (from selenium<5.0.0,>=4.17.2->llama-index-readers-web) (1.8.0)\n",
      "Requirement already satisfied: colorama in c:\\users\\swapna\\anaconda3\\envs\\ai\\lib\\site-packages (from tqdm->google-generativeai) (0.4.6)\n",
      "Requirement already satisfied: httplib2<1.dev0,>=0.19.0 in c:\\users\\swapna\\anaconda3\\envs\\ai\\lib\\site-packages (from google-api-python-client->google-generativeai) (0.22.0)\n",
      "Requirement already satisfied: google-auth-httplib2<1.0.0,>=0.2.0 in c:\\users\\swapna\\anaconda3\\envs\\ai\\lib\\site-packages (from google-api-python-client->google-generativeai) (0.2.0)\n",
      "Requirement already satisfied: uritemplate<5,>=3.0.1 in c:\\users\\swapna\\anaconda3\\envs\\ai\\lib\\site-packages (from google-api-python-client->google-generativeai) (4.1.1)\n",
      "Requirement already satisfied: six in c:\\users\\swapna\\anaconda3\\envs\\ai\\lib\\site-packages (from feedfinder2>=0.0.4->newspaper3k<0.3.0,>=0.2.8->llama-index-readers-web) (1.16.0)\n",
      "Requirement already satisfied: sgmllib3k in c:\\users\\swapna\\anaconda3\\envs\\ai\\lib\\site-packages (from feedparser>=5.2.1->newspaper3k<0.3.0,>=0.2.8->llama-index-readers-web) (1.0.0)\n",
      "Requirement already satisfied: grpcio<2.0dev,>=1.33.2 in c:\\users\\swapna\\anaconda3\\envs\\ai\\lib\\site-packages (from google-api-core[grpc]!=2.0.*,!=2.1.*,!=2.10.*,!=2.2.*,!=2.3.*,!=2.4.*,!=2.5.*,!=2.6.*,!=2.7.*,!=2.8.*,!=2.9.*,<3.0.0dev,>=1.34.1->google-ai-generativelanguage==0.6.15->google-generativeai) (1.70.0)\n",
      "Requirement already satisfied: grpcio-status<2.0.dev0,>=1.33.2 in c:\\users\\swapna\\anaconda3\\envs\\ai\\lib\\site-packages (from google-api-core[grpc]!=2.0.*,!=2.1.*,!=2.10.*,!=2.2.*,!=2.3.*,!=2.4.*,!=2.5.*,!=2.6.*,!=2.7.*,!=2.8.*,!=2.9.*,<3.0.0dev,>=1.34.1->google-ai-generativelanguage==0.6.15->google-generativeai) (1.70.0)\n",
      "Requirement already satisfied: pyparsing!=3.0.0,!=3.0.1,!=3.0.2,!=3.0.3,<4,>=2.4.2 in c:\\users\\swapna\\anaconda3\\envs\\ai\\lib\\site-packages (from httplib2<1.dev0,>=0.19.0->google-api-python-client->google-generativeai) (3.2.1)\n",
      "Requirement already satisfied: anyio in c:\\users\\swapna\\anaconda3\\envs\\ai\\lib\\site-packages (from httpx->llama-index-core<0.13.0,>=0.12.14->llama-index) (4.8.0)\n",
      "Requirement already satisfied: httpcore==1.* in c:\\users\\swapna\\anaconda3\\envs\\ai\\lib\\site-packages (from httpx->llama-index-core<0.13.0,>=0.12.14->llama-index) (1.0.7)\n",
      "Requirement already satisfied: h11<0.15,>=0.13 in c:\\users\\swapna\\anaconda3\\envs\\ai\\lib\\site-packages (from httpcore==1.*->httpx->llama-index-core<0.13.0,>=0.12.14->llama-index) (0.14.0)\n",
      "Requirement already satisfied: distro<2,>=1.7.0 in c:\\users\\swapna\\anaconda3\\envs\\ai\\lib\\site-packages (from openai>=1.14.0->llama-index-agent-openai<0.5.0,>=0.4.0->llama-index) (1.9.0)\n",
      "Requirement already satisfied: jiter<1,>=0.4.0 in c:\\users\\swapna\\anaconda3\\envs\\ai\\lib\\site-packages (from openai>=1.14.0->llama-index-agent-openai<0.5.0,>=0.4.0->llama-index) (0.8.2)\n",
      "Requirement already satisfied: sniffio in c:\\users\\swapna\\anaconda3\\envs\\ai\\lib\\site-packages (from openai>=1.14.0->llama-index-agent-openai<0.5.0,>=0.4.0->llama-index) (1.3.1)\n",
      "Requirement already satisfied: pyasn1<0.7.0,>=0.4.6 in c:\\users\\swapna\\anaconda3\\envs\\ai\\lib\\site-packages (from pyasn1-modules>=0.2.1->google-auth>=2.15.0->google-generativeai) (0.6.1)\n",
      "Requirement already satisfied: requests-file>=1.4 in c:\\users\\swapna\\anaconda3\\envs\\ai\\lib\\site-packages (from tldextract>=2.0.1->newspaper3k<0.3.0,>=0.2.8->llama-index-readers-web) (2.1.0)\n",
      "Requirement already satisfied: filelock>=3.0.8 in c:\\users\\swapna\\anaconda3\\envs\\ai\\lib\\site-packages (from tldextract>=2.0.1->newspaper3k<0.3.0,>=0.2.8->llama-index-readers-web) (3.16.1)\n",
      "Requirement already satisfied: sortedcontainers in c:\\users\\swapna\\anaconda3\\envs\\ai\\lib\\site-packages (from trio~=0.17->selenium<5.0.0,>=4.17.2->llama-index-readers-web) (2.4.0)\n",
      "Requirement already satisfied: outcome in c:\\users\\swapna\\anaconda3\\envs\\ai\\lib\\site-packages (from trio~=0.17->selenium<5.0.0,>=4.17.2->llama-index-readers-web) (1.3.0.post0)\n",
      "Requirement already satisfied: cffi>=1.14 in c:\\users\\swapna\\anaconda3\\envs\\ai\\lib\\site-packages (from trio~=0.17->selenium<5.0.0,>=4.17.2->llama-index-readers-web) (1.17.1)\n",
      "Requirement already satisfied: wsproto>=0.14 in c:\\users\\swapna\\anaconda3\\envs\\ai\\lib\\site-packages (from trio-websocket~=0.9->selenium<5.0.0,>=4.17.2->llama-index-readers-web) (1.2.0)\n",
      "Requirement already satisfied: mypy-extensions>=0.3.0 in c:\\users\\swapna\\anaconda3\\envs\\ai\\lib\\site-packages (from typing-inspect>=0.8.0->llama-index-core<0.13.0,>=0.12.14->llama-index) (1.0.0)\n",
      "Requirement already satisfied: pysocks!=1.5.7,<2.0,>=1.5.6 in c:\\users\\swapna\\anaconda3\\envs\\ai\\lib\\site-packages (from urllib3[socks]<3,>=1.26->selenium<5.0.0,>=4.17.2->llama-index-readers-web) (1.7.1)\n",
      "Requirement already satisfied: marshmallow<4.0.0,>=3.18.0 in c:\\users\\swapna\\anaconda3\\envs\\ai\\lib\\site-packages (from dataclasses-json->llama-index-core<0.13.0,>=0.12.14->llama-index) (3.25.1)\n",
      "Requirement already satisfied: pytz>=2020.1 in c:\\users\\swapna\\anaconda3\\envs\\ai\\lib\\site-packages (from pandas->llama-index-readers-file<0.5.0,>=0.4.0->llama-index) (2024.2)\n",
      "Requirement already satisfied: tzdata>=2022.7 in c:\\users\\swapna\\anaconda3\\envs\\ai\\lib\\site-packages (from pandas->llama-index-readers-file<0.5.0,>=0.4.0->llama-index) (2024.2)\n",
      "Requirement already satisfied: pycparser in c:\\users\\swapna\\anaconda3\\envs\\ai\\lib\\site-packages (from cffi>=1.14->trio~=0.17->selenium<5.0.0,>=4.17.2->llama-index-readers-web) (2.22)\n",
      "Note: you may need to restart the kernel to use updated packages.\n"
     ]
    }
   ],
   "source": [
    "pip install llama-index BeautifulSoup4 google-generativeai pinecone-client llama-index-readers-web llama-index-embeddings-gemini llama-index llama-index-vector-stores-pinecone llama-index-llms-gemini llama-index-embeddings-gemini llama-index-vector-stores-pinecone llama-index-llms-gemini"
   ]
  },
  {
   "cell_type": "code",
   "execution_count": 93,
   "metadata": {},
   "outputs": [],
   "source": [
    "import os\n",
    "from pinecone import Pinecone\n",
    "from llama_index.llms.gemini import Gemini\n",
    "from llama_index.vector_stores.pinecone import PineconeVectorStore\n",
    "from llama_index.embeddings.gemini import GeminiEmbedding\n",
    "from llama_index.core import StorageContext, VectorStoreIndex, download_loader\n",
    "from llama_index.core import VectorStoreIndex\n",
    "from llama_index.readers.web import BeautifulSoupWebReader\n",
    "from llama_index.core import Settings"
   ]
  },
  {
   "cell_type": "code",
   "execution_count": 94,
   "metadata": {},
   "outputs": [
    {
     "data": {
      "text/plain": [
       "True"
      ]
     },
     "execution_count": 94,
     "metadata": {},
     "output_type": "execute_result"
    }
   ],
   "source": [
    "from dotenv import load_dotenv\n",
    "load_dotenv()"
   ]
  },
  {
   "cell_type": "code",
   "execution_count": 95,
   "metadata": {},
   "outputs": [],
   "source": [
    "# Access the variables\n",
    "GOOGLE_API_KEY = os.getenv(\"GOOGLE_API_KEY\")\n",
    "PINECONE_API_KEY = os.getenv(\"PINECONE_API_KEY\")\n",
    "\n",
    "\n",
    "os.environ[\"GOOGLE_API_KEY\"] = GOOGLE_API_KEY\n",
    "os.environ[\"PINECONE_API_KEY\"] = PINECONE_API_KEY\n",
    "\n",
    "DATA_URL = \"https://console.groq.com/docs/models\"\n",
    "\n",
    "llm = Gemini(model=\"models/gemini-2.0-flash-exp\")"
   ]
  },
  {
   "cell_type": "code",
   "execution_count": 96,
   "metadata": {},
   "outputs": [],
   "source": [
    "pinecone_client = Pinecone(api_key=os.environ[\"PINECONE_API_KEY\"])"
   ]
  },
  {
   "cell_type": "code",
   "execution_count": 97,
   "metadata": {},
   "outputs": [],
   "source": [
    "pinecone_index = pinecone_client.Index(\"llamaindex\")"
   ]
  },
  {
   "cell_type": "code",
   "execution_count": 98,
   "metadata": {},
   "outputs": [],
   "source": [
    "from llama_index.readers.web import BeautifulSoupWebReader"
   ]
  },
  {
   "cell_type": "code",
   "execution_count": 99,
   "metadata": {},
   "outputs": [
    {
     "name": "stderr",
     "output_type": "stream",
     "text": [
      "C:\\Users\\Swapna\\AppData\\Local\\Temp\\ipykernel_22216\\1847306077.py:1: DeprecationWarning: Call to deprecated function (or staticmethod) download_loader. (`download_loader()` is deprecated. Please install tool using pip install directly instead.)\n",
      "  BeautifulSoupWebReader = download_loader(\"BeautifulSoupWebReader\")\n"
     ]
    }
   ],
   "source": [
    "BeautifulSoupWebReader = download_loader(\"BeautifulSoupWebReader\")\n",
    "\n",
    "loader = BeautifulSoupWebReader()\n",
    "documents = loader.load_data(urls=[DATA_URL])"
   ]
  },
  {
   "cell_type": "code",
   "execution_count": 100,
   "metadata": {},
   "outputs": [],
   "source": [
    "embed_model = GeminiEmbedding(model_name=\"models/text-embedding-004\")\n",
    "\n",
    "Settings.llm = llm\n",
    "Settings.embed_model = embed_model\n",
    "Settings.chunk_size = 1024"
   ]
  },
  {
   "cell_type": "code",
   "execution_count": 101,
   "metadata": {},
   "outputs": [],
   "source": [
    "from llama_index.core import VectorStoreIndex"
   ]
  },
  {
   "cell_type": "code",
   "execution_count": 102,
   "metadata": {},
   "outputs": [
    {
     "name": "stderr",
     "output_type": "stream",
     "text": [
      "Upserted vectors: 100%|██████████| 1/1 [00:01<00:00,  1.85s/it]\n"
     ]
    }
   ],
   "source": [
    "# Create a PineconeVectorStore using the specified pinecone_index\n",
    "vector_store = PineconeVectorStore(pinecone_index=pinecone_index)\n",
    "\n",
    "# Create a StorageContext using the created PineconeVectorStore\n",
    "storage_context = StorageContext.from_defaults(\n",
    "    vector_store=vector_store\n",
    ")\n",
    "\n",
    "# Use the chunks of documents and the storage_context to create the index\n",
    "index = VectorStoreIndex.from_documents(\n",
    "    documents, \n",
    "    storage_context=storage_context\n",
    ")"
   ]
  },
  {
   "cell_type": "code",
   "execution_count": 103,
   "metadata": {},
   "outputs": [],
   "source": [
    "index = VectorStoreIndex.from_vector_store(vector_store=vector_store)"
   ]
  },
  {
   "cell_type": "code",
   "execution_count": 104,
   "metadata": {},
   "outputs": [],
   "source": [
    "query_engine = index.as_query_engine()\n",
    "\n",
    "# Query the index, send the context to Gemini, and wait for the response\n",
    "gemini_response = query_engine.query(\"this model gemma2-9b-it context text??\")"
   ]
  },
  {
   "cell_type": "code",
   "execution_count": 105,
   "metadata": {},
   "outputs": [
    {
     "name": "stdout",
     "output_type": "stream",
     "text": [
      "The gemma2-9b-it model has a context window of 8,192 tokens.\n",
      "\n"
     ]
    }
   ],
   "source": [
    "print(gemini_response)"
   ]
  },
  {
   "cell_type": "code",
   "execution_count": 106,
   "metadata": {},
   "outputs": [
    {
     "name": "stderr",
     "output_type": "stream",
     "text": [
      "C:\\Users\\Swapna\\AppData\\Local\\Temp\\ipykernel_22216\\416569114.py:29: DeprecationWarning: Call to deprecated function (or staticmethod) download_loader. (`download_loader()` is deprecated. Please install tool using pip install directly instead.)\n",
      "  BeautifulSoupWebReader = download_loader(\"BeautifulSoupWebReader\")\n",
      "Upserted vectors: 100%|██████████| 1/1 [00:01<00:00,  1.87s/it]\n"
     ]
    },
    {
     "name": "stdout",
     "output_type": "stream",
     "text": [
      "The gemma2-9b-it model has a context window of 8,192 tokens.\n",
      "\n"
     ]
    }
   ],
   "source": [
    "import os\n",
    "from pinecone import Pinecone\n",
    "from llama_index.llms.gemini import Gemini\n",
    "from llama_index.vector_stores.pinecone import PineconeVectorStore\n",
    "from llama_index.embeddings.gemini import GeminiEmbedding\n",
    "from llama_index.core import StorageContext, VectorStoreIndex, download_loader\n",
    "from llama_index.core import VectorStoreIndex\n",
    "from llama_index.readers.web import BeautifulSoupWebReader\n",
    "from llama_index.core import Settings\n",
    "from dotenv import load_dotenv\n",
    "load_dotenv()\n",
    "# Access the variables\n",
    "GOOGLE_API_KEY = os.getenv(\"GOOGLE_API_KEY\")\n",
    "PINECONE_API_KEY = os.getenv(\"PINECONE_API_KEY\")\n",
    "\n",
    "\n",
    "os.environ[\"GOOGLE_API_KEY\"] = GOOGLE_API_KEY\n",
    "os.environ[\"PINECONE_API_KEY\"] = PINECONE_API_KEY\n",
    "\n",
    "DATA_URL = \"https://console.groq.com/docs/models\"\n",
    "\n",
    "llm = Gemini(model=\"models/gemini-2.0-flash-exp\")\n",
    "\n",
    "\n",
    "pinecone_client = Pinecone(api_key=os.environ[\"PINECONE_API_KEY\"])\n",
    "\n",
    "pinecone_index = pinecone_client.Index(\"llamaindex\")\n",
    "\n",
    "BeautifulSoupWebReader = download_loader(\"BeautifulSoupWebReader\")\n",
    "\n",
    "loader = BeautifulSoupWebReader()\n",
    "documents = loader.load_data(urls=[DATA_URL])\n",
    "\n",
    "\n",
    "embed_model = GeminiEmbedding(model_name=\"models/text-embedding-004\")\n",
    "\n",
    "Settings.llm = llm\n",
    "Settings.embed_model = embed_model\n",
    "Settings.chunk_size = 1024\n",
    "\n",
    "# Create a PineconeVectorStore using the specified pinecone_index\n",
    "vector_store = PineconeVectorStore(pinecone_index=pinecone_index)\n",
    "\n",
    "# Create a StorageContext using the created PineconeVectorStore\n",
    "storage_context = StorageContext.from_defaults(\n",
    "    vector_store=vector_store\n",
    ")\n",
    "\n",
    "# Use the chunks of documents and the storage_context to create the index\n",
    "index = VectorStoreIndex.from_documents(\n",
    "    documents, \n",
    "    storage_context=storage_context\n",
    ")\n",
    "\n",
    "index = VectorStoreIndex.from_vector_store(vector_store=vector_store)\n",
    "\n",
    "query_engine = index.as_query_engine()\n",
    "\n",
    "# Query the index, send the context to Gemini, and wait for the response\n",
    "gemini_response = query_engine.query(\"this model gemma2-9b-it context text??\")\n",
    "\n",
    "print(gemini_response)\n",
    "\n"
   ]
  }
 ],
 "metadata": {
  "kernelspec": {
   "display_name": "AI",
   "language": "python",
   "name": "python3"
  },
  "language_info": {
   "codemirror_mode": {
    "name": "ipython",
    "version": 3
   },
   "file_extension": ".py",
   "mimetype": "text/x-python",
   "name": "python",
   "nbconvert_exporter": "python",
   "pygments_lexer": "ipython3",
   "version": "3.12.8"
  }
 },
 "nbformat": 4,
 "nbformat_minor": 2
}
